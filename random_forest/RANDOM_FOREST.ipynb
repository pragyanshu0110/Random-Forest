{
 "cells": [
  {
   "cell_type": "code",
   "execution_count": 46,
   "metadata": {},
   "outputs": [
    {
     "data": {
      "text/plain": [
       "' The objective of this project is to diagnostically predict whether or not a patient has diabetes, based on \\ncertain diagnostic measurements included in the dataset..This dataset is originally from the National Institute\\nof Diabetes and Digestive and Kidney Diseases. Several constraints were placed on the selection of these \\ninstances from a larger database. In particular, all patients here are females at least 21 years old of Pima \\nIndian heritage.\\n\\n1. Pregnancies\\n2. Glucose\\n3. BloodPressure\\n4. SkinThickness\\n5. Insulin\\n6. BMI\\n7. DiabetesPedigreeFunction\\n8. Age      '"
      ]
     },
     "execution_count": 46,
     "metadata": {},
     "output_type": "execute_result"
    }
   ],
   "source": [
    "''' The objective of this project is to diagnostically predict whether or not a patient has diabetes, based on \n",
    "certain diagnostic measurements included in the dataset..This dataset is originally from the National Institute\n",
    "of Diabetes and Digestive and Kidney Diseases. Several constraints were placed on the selection of these \n",
    "instances from a larger database. In particular, all patients here are females at least 21 years old of Pima \n",
    "Indian heritage.\n",
    "\n",
    "1. Pregnancies\n",
    "2. Glucose\n",
    "3. BloodPressure\n",
    "4. SkinThickness\n",
    "5. Insulin\n",
    "6. BMI\n",
    "7. DiabetesPedigreeFunction\n",
    "8. Age      '''"
   ]
  },
  {
   "cell_type": "code",
   "execution_count": 47,
   "metadata": {},
   "outputs": [],
   "source": [
    "import pandas as pd\n",
    "from sklearn.model_selection import train_test_split\n",
    "from sklearn.preprocessing import StandardScaler\n",
    "from sklearn.ensemble import RandomForestClassifier\n",
    "from sklearn.metrics import classification_report, confusion_matrix, accuracy_score\n",
    "from sklearn.externals import joblib"
   ]
  },
  {
   "cell_type": "code",
   "execution_count": 48,
   "metadata": {},
   "outputs": [],
   "source": [
    "import csv\n",
    "X = [] \n",
    "y = []\n",
    "with open('pima-indians-diabetes.csv', 'r') as file:\n",
    "    csv_reader = csv.reader(file)\n",
    "    for row in csv_reader:\n",
    "        if not row:\n",
    "            continue\n",
    "        \n",
    "        X.append(row[:-1])\n",
    "        y.append(row[-1])"
   ]
  },
  {
   "cell_type": "code",
   "execution_count": 49,
   "metadata": {},
   "outputs": [],
   "source": [
    "# splitting in tain and test sets\n",
    "x_train, x_test, y_train, y_test = train_test_split(X,y,test_size = 0.2, random_state = 0)"
   ]
  },
  {
   "cell_type": "code",
   "execution_count": 50,
   "metadata": {},
   "outputs": [],
   "source": [
    "# feature scaling\n",
    "scaler = StandardScaler()\n",
    "x_train = scaler.fit_transform(x_train)\n",
    "x_test = scaler.transform(x_test)"
   ]
  },
  {
   "cell_type": "code",
   "execution_count": 51,
   "metadata": {},
   "outputs": [],
   "source": [
    "# training\n",
    "model = RandomForestClassifier(n_estimators = 500, random_state =0)\n",
    "model.fit(x_train,y_train)\n",
    "\n",
    "# saving model\n",
    "joblib.dump(model, \"diabetes_model.pkl\")\n",
    "\n",
    "# testing\n",
    "y_predicted = model.predict(x_test)"
   ]
  },
  {
   "cell_type": "code",
   "execution_count": 57,
   "metadata": {},
   "outputs": [
    {
     "name": "stdout",
     "output_type": "stream",
     "text": [
      "accuracy of the model : 81.169% \n"
     ]
    }
   ],
   "source": [
    "accr = accuracy_score(y_test, y_predicted)\n",
    "accr = accr*100 \n",
    "print('accuracy of the model : %.3f%% '  %accr)"
   ]
  },
  {
   "cell_type": "code",
   "execution_count": 53,
   "metadata": {},
   "outputs": [],
   "source": [
    "# reading the model \n",
    "classifier = joblib.load(\"diabetes_model.pkl\")"
   ]
  },
  {
   "cell_type": "code",
   "execution_count": 56,
   "metadata": {},
   "outputs": [
    {
     "name": "stdout",
     "output_type": "stream",
     "text": [
      "0\n"
     ]
    }
   ],
   "source": [
    "# predicted with only one input\n",
    "new_data1 = [[1,146,56,0,0,29.7,0.564,29]]\n",
    "new_data1 = scaler.transform(new_data1)\n",
    "ans = classifier.predict(new_data1)\n",
    "print(ans[0])"
   ]
  },
  {
   "cell_type": "code",
   "execution_count": null,
   "metadata": {},
   "outputs": [],
   "source": []
  }
 ],
 "metadata": {
  "kernelspec": {
   "display_name": "Python 3",
   "language": "python",
   "name": "python3"
  },
  "language_info": {
   "codemirror_mode": {
    "name": "ipython",
    "version": 3
   },
   "file_extension": ".py",
   "mimetype": "text/x-python",
   "name": "python",
   "nbconvert_exporter": "python",
   "pygments_lexer": "ipython3",
   "version": "3.5.2"
  }
 },
 "nbformat": 4,
 "nbformat_minor": 2
}
