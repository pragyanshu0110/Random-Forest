{
 "cells": [
  {
   "cell_type": "code",
   "execution_count": 2,
   "metadata": {},
   "outputs": [],
   "source": [
    "import pandas as pd\n",
    "import numpy as np\n",
    "from random import randrange\n",
    "from math import sqrt\n",
    "\n",
    "np.random.seed(0)"
   ]
  },
  {
   "cell_type": "code",
   "execution_count": null,
   "metadata": {
    "scrolled": true
   },
   "outputs": [],
   "source": []
  },
  {
   "cell_type": "code",
   "execution_count": 3,
   "metadata": {},
   "outputs": [],
   "source": [
    "def splitting_data(df,no_data_div):######################################## dddddddddddddddddd  ###########\n",
    "    n = int(len(df)/no_data_div)\n",
    "    splitted_data = []\n",
    "    copy_data = list(df)\n",
    "    for i in range(no_data_div):\n",
    "        local_lst = []\n",
    "        while len(local_lst) < n:\n",
    "            idx = randrange(len(copy_data))\n",
    "            s = copy_data.pop(idx)\n",
    "            local_lst.append(s)\n",
    "        splitted_data.append(local_lst)\n",
    "    #print(splitted_data)    \n",
    "    return splitted_data    \n",
    "           "
   ]
  },
  {
   "cell_type": "code",
   "execution_count": 4,
   "metadata": {},
   "outputs": [],
   "source": [
    "def subsample(train,ssize):\n",
    "    sample = []\n",
    "    n_sample = round(len(train) * ssize)\n",
    "    while len(sample) < n_sample:\n",
    "        index = randrange(len(train))\n",
    "        sample.append(train[index])\n",
    "    return sample"
   ]
  },
  {
   "cell_type": "code",
   "execution_count": 5,
   "metadata": {},
   "outputs": [],
   "source": [
    "def gini_index(groups, class_values):\n",
    "    gini = 0.0\n",
    "    for class_value in class_values:\n",
    "        \n",
    "        for group in groups:\n",
    "            size = len(group)\n",
    "            if size == 0:\n",
    "                continue\n",
    "            proportion = [row[-1] for row in group].count(class_value) / float(size)\n",
    "            gini += (proportion * (1.0 - proportion))\n",
    "    return gini"
   ]
  },
  {
   "cell_type": "code",
   "execution_count": 6,
   "metadata": {},
   "outputs": [],
   "source": [
    "# splitting the dataset\n",
    "def test_split(index, value, dataset):\n",
    "    left, right = list(), list()\n",
    "    for row in dataset:\n",
    "        if row[index] < value:\n",
    "            left.append(row)\n",
    "        else:\n",
    "            right.append(row)\n",
    "    return left, right"
   ]
  },
  {
   "cell_type": "code",
   "execution_count": 7,
   "metadata": {},
   "outputs": [],
   "source": [
    "def get_split(dataset, n_features):\n",
    "    class_values = list(set(row[-1] for row in dataset))\n",
    "    b_index, b_value, b_score, b_groups = 999, 999, 999, None\n",
    "    features = list()\n",
    "    while len(features) < n_features:\n",
    "        index = randrange(len(dataset[0])-1)\n",
    "        if index not in features:\n",
    "            features.append(index)\n",
    "    for index in features:\n",
    "        for row in dataset:\n",
    "            groups = test_split(index, row[index], dataset)\n",
    "            gini = gini_index(groups, class_values)\n",
    "            if gini < b_score:\n",
    "                b_index, b_value, b_score, b_groups = index, row[index], gini, groups\n",
    "\n",
    "    return {'index':b_index, 'value':b_value, 'groups':b_groups}"
   ]
  },
  {
   "cell_type": "code",
   "execution_count": null,
   "metadata": {},
   "outputs": [],
   "source": []
  },
  {
   "cell_type": "code",
   "execution_count": 8,
   "metadata": {},
   "outputs": [],
   "source": [
    "# generating last node\n",
    "def to_terminal(group):\n",
    "    outcomes = [row[-1] for row in group]\n",
    "    return max(set(outcomes), key=outcomes.count)"
   ]
  },
  {
   "cell_type": "code",
   "execution_count": 9,
   "metadata": {},
   "outputs": [],
   "source": [
    "# recursively splitting the nodes \n",
    "def split(node, max_depth, min_size, n_features, depth):\n",
    "\n",
    "    left, right = node['groups']\n",
    "    del(node['groups'])\n",
    "\n",
    "    if not left or not right:\n",
    "        node['left'] = node['right'] = to_terminal(left + right)\n",
    "        return\n",
    "\n",
    "    if depth >= max_depth:\n",
    "        node['left'], node['right'] = to_terminal(left), to_terminal(right)\n",
    "        return\n",
    "\n",
    "    if len(left) <= min_size:\n",
    "        node['left'] = to_terminal(left)\n",
    "    else:\n",
    "        node['left'] = get_split(left, n_features)\n",
    "        split(node['left'], max_depth, min_size, n_features, depth+1)\n",
    "\n",
    "    if len(right) <= min_size:\n",
    "        node['right'] = to_terminal(right)\n",
    "    else:\n",
    "        node['right'] = get_split(right, n_features)\n",
    "        split(node['right'], max_depth, min_size, n_features, depth+1)"
   ]
  },
  {
   "cell_type": "code",
   "execution_count": 10,
   "metadata": {},
   "outputs": [],
   "source": [
    "# building the tree\n",
    "def build_tree(data,max_depth, min_size,no_features):\n",
    "    root = get_split(data, no_features)\n",
    "    split(root, max_depth, min_size, no_features, 1)\n",
    "    return root\n",
    "    "
   ]
  },
  {
   "cell_type": "code",
   "execution_count": 11,
   "metadata": {},
   "outputs": [],
   "source": [
    "# prediction\n",
    "def predict(node, row):\n",
    "    if row[node['index']] < node['value']:\n",
    "        if isinstance(node['left'], dict):\n",
    "            return predict(node['left'], row)\n",
    "        else:\n",
    "            return node['left']\n",
    "    else:\n",
    "        if isinstance(node['right'], dict):\n",
    "            return predict(node['right'], row)\n",
    "        else:\n",
    "            return node['right']"
   ]
  },
  {
   "cell_type": "code",
   "execution_count": 12,
   "metadata": {},
   "outputs": [],
   "source": [
    "def predict_bagg(trees, row):\n",
    "    predictions = [predict(tree, row) for tree in trees]\n",
    "    return max(set(predictions), key=predictions.count)"
   ]
  },
  {
   "cell_type": "code",
   "execution_count": 13,
   "metadata": {},
   "outputs": [],
   "source": [
    "def Random_Forest(trainingset, testingset, max_depth, min_size, sample_size, x, no_features):\n",
    "    trees = []\n",
    "    predictions = []\n",
    "    for i in range(x):\n",
    "        data_ = subsample(trainingset,sample_size)\n",
    "        tree = build_tree(data_,max_depth, min_size,no_features)\n",
    "        trees.append(tree)\n",
    "        \n",
    "    predictions = [predict_bagg(trees, row) for row in testingset]    \n",
    "    return(predictions)    \n",
    "    "
   ]
  },
  {
   "cell_type": "code",
   "execution_count": 14,
   "metadata": {},
   "outputs": [],
   "source": [
    "# Calculate accuracy\n",
    "def checking(actual, predicted):\n",
    "    correct = 0\n",
    "    for i in range(len(actual)):\n",
    "        if actual[i] == predicted[i]:\n",
    "            correct += 1\n",
    "    return correct / float(len(actual)) * 100.0"
   ]
  },
  {
   "cell_type": "code",
   "execution_count": 15,
   "metadata": {},
   "outputs": [],
   "source": [
    "def evaluation(df, no_data_div, max_depth, min_size, sample_size, x, no_features):\n",
    "    sub_samples = splitting_data(df,no_data_div)\n",
    "    scores = []\n",
    "    for sub_sample in sub_samples:\n",
    "        trainingset = list(sub_samples)\n",
    "        trainingset.remove(sub_sample)\n",
    "        trainingset = sum(trainingset,[])\n",
    "        \n",
    "        testingset = []\n",
    "        actual_label = []\n",
    "        for row in sub_sample:\n",
    "            row = list(row)\n",
    "            testingset.append(row)\n",
    "            actual_label.append(row[-1])\n",
    "            \n",
    "        predicted_label = Random_Forest(trainingset, testingset, max_depth, min_size, sample_size, x, no_features)        \n",
    "        score = checking(predicted_label, actual_label)        \n",
    "        scores.append(score)\n",
    "        \n",
    "    return scores        "
   ]
  },
  {
   "cell_type": "code",
   "execution_count": null,
   "metadata": {},
   "outputs": [],
   "source": []
  },
  {
   "cell_type": "code",
   "execution_count": 16,
   "metadata": {},
   "outputs": [
    {
     "data": {
      "text/plain": [
       "768"
      ]
     },
     "execution_count": 16,
     "metadata": {},
     "output_type": "execute_result"
    }
   ],
   "source": [
    "# Loading data\n",
    "import pandas as pd\n",
    "import csv\n",
    "df = [] \n",
    "\n",
    "with open('pima-indians-diabetes.csv', 'r') as file:\n",
    "    csv_reader = csv.reader(file)\n",
    "    for row in csv_reader:\n",
    "        if not row:\n",
    "            continue\n",
    "        \n",
    "        df.append(row)\n",
    "len(df)"
   ]
  },
  {
   "cell_type": "code",
   "execution_count": 17,
   "metadata": {},
   "outputs": [
    {
     "name": "stdout",
     "output_type": "stream",
     "text": [
      "2\n",
      "Trees: 100\n",
      "Scores: [63.020833333333336, 67.1875]\n",
      "Accuracy: 65.104%\n"
     ]
    }
   ],
   "source": [
    "# Hyperparameters\n",
    "no_data_div = 2    # in how many parts you want to divide your data\n",
    "max_depth = 30      # maximum depth of tree\n",
    "min_size = 1       # size of tree\n",
    "sample_size = 1.0\n",
    "no_features = int(sqrt(len(df[0])-1))\n",
    "print(no_features)\n",
    "\n",
    "x =100 # no_trees, number of trees that you want \n",
    "\n",
    "\n",
    "scores = evaluation(df, no_data_div, max_depth, min_size, sample_size, x, no_features)\n",
    "print('Trees:',x)\n",
    "print('Scores:',scores)\n",
    "print('Accuracy: %.3f%%' % (sum(scores)/float(len(scores))))"
   ]
  }
 ],
 "metadata": {
  "kernelspec": {
   "display_name": "Python 3",
   "language": "python",
   "name": "python3"
  },
  "language_info": {
   "codemirror_mode": {
    "name": "ipython",
    "version": 3
   },
   "file_extension": ".py",
   "mimetype": "text/x-python",
   "name": "python",
   "nbconvert_exporter": "python",
   "pygments_lexer": "ipython3",
   "version": "3.5.2"
  }
 },
 "nbformat": 4,
 "nbformat_minor": 2
}
